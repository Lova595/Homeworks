{
  "nbformat": 4,
  "nbformat_minor": 0,
  "metadata": {
    "colab": {
      "provenance": [],
      "include_colab_link": true
    },
    "kernelspec": {
      "name": "python3",
      "display_name": "Python 3"
    }
  },
  "cells": [
    {
      "cell_type": "markdown",
      "metadata": {
        "id": "view-in-github",
        "colab_type": "text"
      },
      "source": [
        "<a href=\"https://colab.research.google.com/github/Lova595/Homeworks/blob/main/26_09_23_%D0%94%D0%97_Ultra_Pro_%D0%A4%D1%83%D0%BD%D0%BA%D1%86%D0%B8%D0%B8_%D0%B8_%D0%BC%D0%BE%D0%B4%D1%83%D0%BB%D0%B8_ipynb%22.ipynb\" target=\"_parent\"><img src=\"https://colab.research.google.com/assets/colab-badge.svg\" alt=\"Open In Colab\"/></a>"
      ]
    },
    {
      "cell_type": "markdown",
      "metadata": {
        "id": "j0nWwQpIaPch"
      },
      "source": [
        "**Задача 1**\n",
        "\n",
        "Уже весна, скоро в отпуск. Необходимо написать функцию расчета стоимости вашего путешествия.\n",
        "\n",
        "Определите функцию с названием ```hotel_cost``` и с аргументом \"Количество ночей\" в качестве входных данных. Цена отеля будет 140 у. е. за ночь. Выходит, функция должна вернуть стоимость всех ночей.\n",
        "\n",
        "Определите функцию под названием ```plane_ride_cost```, которая на вход принимает строку \"Город\". Такая функция должна вернуть цену перелета в зависимости от места: если это Крым, то перелет обойдется в 120 у. е.,\n",
        "       если Шри-Ланка - 800 у. е.,\n",
        "       если Каир - 400 у. е.,\n",
        "       если Сочи - 120 у. е.\n",
        "\n",
        "Напишите функцию ```rental_car_cost``` с аргументом \"Количество дней\". Эта функция должна рассчитать стоимость аренды авто, если за сутки вы должны оплачивать саму ренту (40 у. е.) + стоимость услуг страхового агентства (+1% от суммарной стоимости услуг каждый следующий день. Т. е. первый день 1% от стоимости, второй - берется 1% от стоимости предыдущего дня (включая 1% за предыдущий день)  и т. д.(следовательно сумма аренды авто за первый день будет составлять 40 * 1.01,\n",
        "за второй день 40 * 1.01 * 1.01, за третий день 40 * 1.01 * 1.01 * 1.01 и т.д.) Если вы арендуете на 7 и более дней, то скидка - 50 у. е., если от 3 до 6 дней включительно - 20 у. е. Обе скидки получить сразу нельзя.\n",
        "Задача состоит в том, чтобы эти функции (```hotel_cost, plane_ride_cost, rental_car_cost```) были локальными в составе одной глобальной функции trip_cost, которая бы возвращала сумму этих локальных функций."
      ]
    },
    {
      "cell_type": "markdown",
      "metadata": {
        "id": "EaYeDHxcuO_s"
      },
      "source": [
        "**Решение:**"
      ]
    },
    {
      "cell_type": "code",
      "metadata": {
        "id": "pngcgEEkaQbG"
      },
      "source": [
        "# создаем функцию подсчета стоимости отеля за n ночей\n",
        "def hotel_cost(num_nights):\n",
        "  price = 140\n",
        "  total_cost = num_nights*price\n",
        "  return total_cost"
      ],
      "execution_count": null,
      "outputs": []
    },
    {
      "cell_type": "code",
      "source": [
        "# определение цены перелета\n",
        "def plane_ride_cost(city):\n",
        "  city_cost = {'Крым': 120,\n",
        "               'Шри-Ланка': 800,\n",
        "               'Каир': 400,\n",
        "               'Сочи': 120}\n",
        "  for key, val in city_cost.items():\n",
        "    if key == city:\n",
        "      return val"
      ],
      "metadata": {
        "id": "MEkO3DtyceZ0"
      },
      "execution_count": null,
      "outputs": []
    },
    {
      "cell_type": "code",
      "source": [
        "# подсчет стоимости аренды авто\n",
        "def rental_car_cost(num_days):\n",
        "    if num_days>=7:\n",
        "      discount=50\n",
        "    elif (num_days>=3 and num_days<=6):\n",
        "      discount=20\n",
        "    else:\n",
        "      discount=0\n",
        "\n",
        "    car_rent = 0\n",
        "    for i in range(num_days):\n",
        "      car_rent = car_rent + 40 * 1.01**(i+1)\n",
        "\n",
        "    if car_rent == 0:\n",
        "      cost = 0\n",
        "\n",
        "    cost = car_rent - discount\n",
        "\n",
        "    return cost"
      ],
      "metadata": {
        "id": "0_fqgaulgrqz"
      },
      "execution_count": null,
      "outputs": []
    },
    {
      "cell_type": "markdown",
      "source": [
        "Теперь выведем глобальную функцию с составом локальных функций"
      ],
      "metadata": {
        "id": "-xtEFoBFaw3h"
      }
    },
    {
      "cell_type": "code",
      "source": [
        "\n",
        "def trip_cost(num_nights, city, num_days):\n",
        "\n",
        "  def hotel_cost(num_nights):\n",
        "    price = 140\n",
        "    total_cost = num_nights*price\n",
        "    return total_cost\n",
        "\n",
        "  def plane_ride_cost(city):\n",
        "    city_cost = {'Крым': 120,\n",
        "               'Шри-Ланка': 800,\n",
        "               'Каир': 400,\n",
        "               'Сочи': 120}\n",
        "    for key, val in city_cost.items():\n",
        "      if key == city:\n",
        "        return val\n",
        "\n",
        "\n",
        "  def rental_car_cost(num_days):\n",
        "    if num_days>=7:\n",
        "      discount=50\n",
        "    elif (num_days>=3 and num_days<=6):\n",
        "      discount=20\n",
        "    else:\n",
        "      discount=0\n",
        "\n",
        "    car_rent = 0\n",
        "    for i in range(num_days):\n",
        "      car_rent = car_rent + 40 * 1.01**(i+1)\n",
        "\n",
        "    if car_rent == 0:\n",
        "      cost = 0\n",
        "\n",
        "    cost = car_rent - discount\n",
        "\n",
        "    return cost\n",
        "\n",
        "\n",
        "  return hotel_cost(num_nights)+plane_ride_cost(city)+rental_car_cost(num_days)"
      ],
      "metadata": {
        "id": "umXnfw_7zFRP"
      },
      "execution_count": 14,
      "outputs": []
    },
    {
      "cell_type": "code",
      "source": [
        "num_nights = int(input('Количество ночей: '))\n",
        "city = input('Выбор направления: ')\n",
        "num_days = int(input('Срок аренды авто: '))\n",
        "print('Стоимость путешествия составит:', round(trip_cost(num_nights, city, num_days), 2), '$')"
      ],
      "metadata": {
        "colab": {
          "base_uri": "https://localhost:8080/"
        },
        "id": "ZKRvDPUMePcN",
        "outputId": "6134cf8c-c728-4d5d-ad14-a98ce81f2e5a"
      },
      "execution_count": 18,
      "outputs": [
        {
          "output_type": "stream",
          "name": "stdout",
          "text": [
            "Количество ночей: 10\n",
            "Выбор направления: Крым\n",
            "Срок аренды авто: 6\n",
            "Стоимость путешествия составит: 1748.54 $\n"
          ]
        }
      ]
    },
    {
      "cell_type": "markdown",
      "metadata": {
        "id": "vx8FJjcGrx4b"
      },
      "source": [
        "**Задача 2**\n",
        "\n",
        "Напишите функцию, которая считает факториал заданного числа."
      ]
    },
    {
      "cell_type": "markdown",
      "metadata": {
        "id": "V_qeKIlWuWNw"
      },
      "source": [
        "**Решение:**"
      ]
    },
    {
      "cell_type": "code",
      "metadata": {
        "id": "rwkN-nciXC41"
      },
      "source": [
        "def factorial():\n",
        "  x = int(input())\n",
        "  f = 1\n",
        "  for i in range(2, x+1):\n",
        "    f *= i\n",
        "  return f\n"
      ],
      "execution_count": null,
      "outputs": []
    },
    {
      "cell_type": "code",
      "source": [
        "factorial()"
      ],
      "metadata": {
        "colab": {
          "base_uri": "https://localhost:8080/"
        },
        "id": "MCaktm4p9W6X",
        "outputId": "04fc5ace-90e3-4e78-87c8-3840635f1419"
      },
      "execution_count": null,
      "outputs": [
        {
          "name": "stdout",
          "output_type": "stream",
          "text": [
            "5\n"
          ]
        },
        {
          "output_type": "execute_result",
          "data": {
            "text/plain": [
              "120"
            ]
          },
          "metadata": {},
          "execution_count": 8
        }
      ]
    },
    {
      "cell_type": "markdown",
      "metadata": {
        "id": "T8a_TGxGt7Yy"
      },
      "source": [
        "**Задача 3**\n",
        "\n",
        "Напишите **лямбда**-функцию, которая считает полную площадь конуса:\n",
        "S = πR(l + R)."
      ]
    },
    {
      "cell_type": "markdown",
      "metadata": {
        "id": "cSrfBueQuYJi"
      },
      "source": [
        "**Решение:**"
      ]
    },
    {
      "cell_type": "code",
      "metadata": {
        "id": "c2M4DJJxtsTT",
        "colab": {
          "base_uri": "https://localhost:8080/"
        },
        "outputId": "a99805d5-706d-4a22-a128-69dd2cf47869"
      },
      "source": [
        "from math import pi # импортируем из библиотеки math модуль пи\n",
        "\n",
        "\n",
        "s = lambda R, I: pi * R * (I + R) #  с помощью анонимной лямбда функции вычисляем площадь конуса\n",
        "print(s(float(input('Радиус конуса R: ')), float(input('Высота конуса I: '))))\n"
      ],
      "execution_count": null,
      "outputs": [
        {
          "output_type": "stream",
          "name": "stdout",
          "text": [
            "Радиус конуса R: 7\n",
            "Высота конуса I: 15\n",
            "483.80526865282815\n"
          ]
        }
      ]
    },
    {
      "cell_type": "markdown",
      "metadata": {
        "id": "6fXQoIiVysbl"
      },
      "source": [
        "**Задача 4**\n",
        "\n",
        "Напишите 2 локальные функции, которые будут переводить рубли в доллары и рубли в евро, внутри глобальной функции, которая будет принимать на вход число (рубли) и выводить конвертированные валюты(доллары и евро)."
      ]
    },
    {
      "cell_type": "markdown",
      "metadata": {
        "id": "N78DnlmDuchl"
      },
      "source": [
        "**Решение:**"
      ]
    },
    {
      "cell_type": "code",
      "metadata": {
        "id": "N7uDMsRoxCvC"
      },
      "source": [
        "def converter():\n",
        "  rub = float(input('Введите сумму в рублях: '))\n",
        "  def conv_euro(re):\n",
        "    return re / 102.75\n",
        "\n",
        "  def conv_usd(ru):\n",
        "    return ru /96.30\n",
        "  return print('Это', round(conv_usd(rub),2), 'доллара(ов) или', round(conv_euro(rub),2), 'евро')"
      ],
      "execution_count": null,
      "outputs": []
    },
    {
      "cell_type": "code",
      "source": [
        "converter()"
      ],
      "metadata": {
        "colab": {
          "base_uri": "https://localhost:8080/"
        },
        "id": "CGH__aNKO8qh",
        "outputId": "18345212-733b-405a-873a-16f1069ed9ce"
      },
      "execution_count": null,
      "outputs": [
        {
          "output_type": "stream",
          "name": "stdout",
          "text": [
            "Введите сумму в рублях: 90000\n",
            "Это 934.58 доллара(ов) или 875.91 евро\n"
          ]
        }
      ]
    },
    {
      "cell_type": "markdown",
      "metadata": {
        "id": "TtWCCVfN6nCc"
      },
      "source": [
        "**Задача 5**\n",
        "\n",
        "Напишите функцию-генератор, которая будет выводить числа Фибоначчи."
      ]
    },
    {
      "cell_type": "markdown",
      "metadata": {
        "id": "zcFv7fKOuefN"
      },
      "source": [
        "**Решение:**"
      ]
    },
    {
      "cell_type": "code",
      "metadata": {
        "id": "z8KBWxdz6EGv"
      },
      "source": [
        "def fib(n):\n",
        "    a, b = 0, 1\n",
        "    for _ in range(n):\n",
        "        yield a\n",
        "        a, b = b, a + b\n"
      ],
      "execution_count": null,
      "outputs": []
    },
    {
      "cell_type": "code",
      "source": [
        "list(fib(10))"
      ],
      "metadata": {
        "colab": {
          "base_uri": "https://localhost:8080/"
        },
        "id": "er2ogU7JV9aU",
        "outputId": "86779aae-2ec2-4e6d-8774-b4da677abfdb"
      },
      "execution_count": null,
      "outputs": [
        {
          "output_type": "execute_result",
          "data": {
            "text/plain": [
              "[0, 1, 1, 2, 3, 5, 8, 13, 21, 34]"
            ]
          },
          "metadata": {},
          "execution_count": 57
        }
      ]
    }
  ]
}